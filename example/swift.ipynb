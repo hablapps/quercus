{
 "cells": [
  {
   "cell_type": "markdown",
   "id": "b6d6c690-eca0-4ec2-a359-96fe1ea58d11",
   "metadata": {},
   "source": [
    "# Parsing a SWIFT Message"
   ]
  },
  {
   "cell_type": "markdown",
   "id": "c6058f7b-a312-4d26-afd4-f9bee894a89f",
   "metadata": {},
   "source": [
    "First off, we load _quercus_:"
   ]
  },
  {
   "cell_type": "code",
   "execution_count": 28,
   "id": "230d5945-68ca-47aa-8d66-f1e6432f9df2",
   "metadata": {
    "scrolled": true
   },
   "outputs": [],
   "source": [
    "ret:{enlist(x;y)};\n",
    "bind:{raze({(a;s):y;x[a]s}[x]')y@};\n",
    "map:{bind[(ret x::)]};\n",
    "trav:{({bind[{map[{raze(x;y)}[y]][x]}[y]]x}/)(x')y};\n",
    "seqA:trav[::];\n",
    "zero:{[x]()};\n",
    "plus:{{x[z],y z}[x;y]};\n",
    "mget:{enlist(x;x)};\n",
    "mset:{[x;y]enlist(();x)};\n",
    "mmod:{enlist(();x y)};\n",
    "fil:{bind[{(zero;ret y)x y}[x]][y]};\n",
    "opt:{plus[x;ret()]};\n",
    "many:{plus[bind[{map[(enlist[z],)]y x}[x;.z.s];x];ret()]};\n",
    "many1:{bind[{map[(enlist[y],)]many x}[x];x]};\n",
    "upto:{fil[{x>=count y}[x]]many y};\n",
    "among:{fil[{(x<=c)&(c:count[z])<=y}[x;y]]many z};\n",
    "upto:among[0];\n",
    "times:{$[x<1;ret();seqA x#y]};\n",
    "sep1:{bind[{map[{enlist[x],y}[z]]many seqr[x;y]}[y;x]]x};\n",
    "sep:{plus[sep1[x;y];ret()]};\n",
    "skip:map zero;\n",
    "item:{$[\"\"~x;();enlist(first x;1_ x)]};\n",
    "seqf:{bind[{map[{x(y;z)}[x;z]][y]}[x;z]]y};\n",
    "seql:seqf[first];seqr:seqf[last];seq:seqf[enlist .];\n",
    "sat:{bind[{$[x y;ret y;zero]}[x];item]};\n",
    "oneof:{sat in[;x]};\n",
    "noneof:{sat(not in[;x]::)};\n",
    "between:{seqr[x;seql[z;y]]};\n",
    "range:{sat{(x<=z)&z<=y}[x;y]};\n",
    "digit:range .\"09\";\n",
    "lwr:range .\"az\";\n",
    "upr:range .\"AZ\";\n",
    "letter:plus[lwr;upr];\n",
    "alphanum:plus[letter;digit];\n",
    "str:{{$[x~count[x]#y;enlist(x;count[x]_y);()]}[x]};\n",
    "word:many1 letter;\n",
    "num:many1 digit;\n",
    "chr:{[x:`c]sat[(x=)]};\n",
    "spaces:skip many space:chr\" \";\n",
    "eof:{$[\"\"~x;ret[()]x;zero x]};\n",
    "eol:chr\"\\n\";\n",
    "parens:between[chr\"(\";chr\")\"];\n",
    "braces:between[chr\"{\";chr\"}\"];\n",
    "lift:map enlist;\n",
    "tok:{map(x$)};\n",
    "(S;D;F;J;T):tok[`],(tok')\"DFJT\";\n",
    "c:item;\n",
    "j:J num;\n",
    "s:S word;\n",
    "\n",
    "rparse:{$[()~r:x y;'`parse;1<count r;'`ambig;[(a;s):r 0;not \"\"~s];'`spare;a]};\n",
    "vparse:{.[{[x]1b}rparse::;(x;y);0b]};"
   ]
  },
  {
   "cell_type": "markdown",
   "id": "c34b724a-9b11-4b7f-b76f-d8f879ec8d86",
   "metadata": {},
   "source": [
    "## 1. Types of Characters Allowed"
   ]
  },
  {
   "cell_type": "markdown",
   "id": "dd9015c1-2237-4167-b5f4-27d2635852bd",
   "metadata": {},
   "source": [
    "The SWIFT protocol includes predefined types of characters which are used along the specification. Our very first task consists on representing these types in terms of _quercus_.\n",
    "\n",
    "#### n: numeric digits (0 through 9) only"
   ]
  },
  {
   "cell_type": "markdown",
   "id": "4f87e3d4-0ae1-4fe4-b80a-7d2ad279bd0f",
   "metadata": {},
   "source": [
    "The `digit` primitive from _quercus_ is all we need to represent SWIFT's _n_ type. In fact, `digit` consumes a character from the input as long as it is numerical."
   ]
  },
  {
   "cell_type": "code",
   "execution_count": 5,
   "id": "52c56ca7-415c-48e6-9be5-f26c2302bcf2",
   "metadata": {},
   "outputs": [
    {
     "data": {
      "text/plain": [
       "\"1\" \"23\"\n"
      ]
     },
     "execution_count": 5,
     "metadata": {},
     "output_type": "execute_result"
    }
   ],
   "source": [
    "digit\"123\""
   ]
  },
  {
   "cell_type": "markdown",
   "id": "95af9f84-dba4-4acc-94e9-6b6c3a8d33d1",
   "metadata": {},
   "source": [
    "Otherwise, it silently fails."
   ]
  },
  {
   "cell_type": "code",
   "execution_count": 6,
   "id": "18d9969b-6395-475c-910d-1220f561b492",
   "metadata": {},
   "outputs": [
    {
     "data": {
      "text/plain": []
     },
     "execution_count": 6,
     "metadata": {},
     "output_type": "execute_result"
    }
   ],
   "source": [
    "digit\"A23\""
   ]
  },
  {
   "cell_type": "markdown",
   "id": "2030d5cd-4b69-4aba-9c9c-3d6852aaaf5f",
   "metadata": {},
   "source": [
    "Thereby, we assign this parser to `nT` (n Type)."
   ]
  },
  {
   "cell_type": "code",
   "execution_count": 21,
   "id": "7f98a012-8763-4ddb-ac27-1e5e1adee1dc",
   "metadata": {},
   "outputs": [],
   "source": [
    "nT:digit"
   ]
  },
  {
   "cell_type": "code",
   "execution_count": 4,
   "id": "b1fb3766-5a84-4d25-b1d0-dbbe4757cec9",
   "metadata": {},
   "outputs": [
    {
     "data": {
      "text/plain": [
       "\"1\" \"23\"\n"
      ]
     },
     "execution_count": 4,
     "metadata": {},
     "output_type": "execute_result"
    }
   ],
   "source": [
    "nT\"123\""
   ]
  },
  {
   "cell_type": "code",
   "execution_count": 5,
   "id": "6e3cacb7-9aec-4051-94c4-d55f8c0d314f",
   "metadata": {},
   "outputs": [
    {
     "data": {
      "text/plain": []
     },
     "execution_count": 5,
     "metadata": {},
     "output_type": "execute_result"
    }
   ],
   "source": [
    "nT\"abc\""
   ]
  },
  {
   "cell_type": "markdown",
   "id": "9992b592-fe4c-424d-9d3b-2de36cc3bc18",
   "metadata": {},
   "source": [
    "#### a: alphabetic letters (A through Z), upper case only"
   ]
  },
  {
   "cell_type": "markdown",
   "id": "238cd5f9-b8ea-4a1d-b833-30f4b9a7d343",
   "metadata": {},
   "source": [
    "We also have `upr` in _quercus_, a native parser that knows how to deal with uppercase letters:"
   ]
  },
  {
   "cell_type": "code",
   "execution_count": 7,
   "id": "33b76170-2539-4701-ae83-87ac16a665ea",
   "metadata": {},
   "outputs": [],
   "source": [
    "aT:upr"
   ]
  },
  {
   "cell_type": "markdown",
   "id": "899b97a9-e0b8-468a-98ad-6f0e80d43620",
   "metadata": {},
   "source": [
    "As expected it knows how to consume an uppercase character."
   ]
  },
  {
   "cell_type": "code",
   "execution_count": 8,
   "id": "9b8e46f3-b801-420b-9009-20f7dcab3336",
   "metadata": {},
   "outputs": [
    {
     "data": {
      "text/plain": [
       "\"A\" \"BC\"\n"
      ]
     },
     "execution_count": 8,
     "metadata": {},
     "output_type": "execute_result"
    }
   ],
   "source": [
    "aT\"ABC\""
   ]
  },
  {
   "cell_type": "markdown",
   "id": "3499e336-f8e0-4571-a14c-545b3a3425ae",
   "metadata": {},
   "source": [
    "But it cannot parse lowercase or digits."
   ]
  },
  {
   "cell_type": "code",
   "execution_count": 9,
   "id": "71aa87dd-b838-4b0f-aeca-5dced4b130c0",
   "metadata": {},
   "outputs": [
    {
     "data": {
      "text/plain": []
     },
     "execution_count": 9,
     "metadata": {},
     "output_type": "execute_result"
    }
   ],
   "source": [
    "aT\"abc\""
   ]
  },
  {
   "cell_type": "markdown",
   "id": "ed421558-9e3c-4e72-bbc4-915eed5164ac",
   "metadata": {},
   "source": [
    "#### c: alphabetic letters (upper case) and digits only"
   ]
  },
  {
   "cell_type": "markdown",
   "id": "add62e4f-425f-46cf-92aa-53bb9755d33f",
   "metadata": {},
   "source": [
    "As we've seen, _quercus_ supplies parsers for uppercase and digit. However, there's no abstraction to parse both of them, as required by SWIFT's _c_ type. Fortunately, we have `plus`, which takes two parsers as input and produces a new one as result, where both of them are combined."
   ]
  },
  {
   "cell_type": "code",
   "execution_count": 10,
   "id": "e3a45c6d-317b-4149-9189-e549833128be",
   "metadata": {},
   "outputs": [],
   "source": [
    "cT:plus[digit;upr]"
   ]
  },
  {
   "cell_type": "markdown",
   "id": "e92eea0a-39f1-4e1a-ab1d-e598bb5de57a",
   "metadata": {},
   "source": [
    "We can check that it behaves as expected."
   ]
  },
  {
   "cell_type": "code",
   "execution_count": 11,
   "id": "e9b8bc0b-2cea-4d1f-83e0-d102185f8146",
   "metadata": {},
   "outputs": [
    {
     "data": {
      "text/plain": [
       "\"A\" \"BC\"\n"
      ]
     },
     "execution_count": 11,
     "metadata": {},
     "output_type": "execute_result"
    },
    {
     "data": {
      "text/plain": [
       "\"1\" \"23\"\n"
      ]
     },
     "execution_count": 11,
     "metadata": {},
     "output_type": "execute_result"
    },
    {
     "data": {
      "text/plain": []
     },
     "execution_count": 11,
     "metadata": {},
     "output_type": "execute_result"
    }
   ],
   "source": [
    "cT\"ABC\"\n",
    "cT\"123\"\n",
    "cT\"abc\""
   ]
  },
  {
   "cell_type": "markdown",
   "id": "4f0ef3d9-4366-4c7e-975b-2ad360bbf67c",
   "metadata": {},
   "source": [
    "#### x: any character of the X permitted set\n",
    "\n",
    "* a b c d e f g h i j k l m n o p q r s t u v w x y z\n",
    "* A B C D E F G H I J K L M N O P Q R S T U V W X Y Z\n",
    "* 0 1 2 3 4 5 6 7 8 9\n",
    "* / – ? : ( ) . , ‘ + CrLf Space"
   ]
  },
  {
   "cell_type": "markdown",
   "id": "90fc5ee1-95c5-4a8f-a584-5d0c5a0385fa",
   "metadata": {},
   "source": [
    "Once we know how to represent uppercase, digits, and their combination, it should be easy to accomodate a parser for lowercase characters. Although _quercus_ defines `lwr`, we'll use `letter`, where uppercase and lowercase are parsed together."
   ]
  },
  {
   "cell_type": "code",
   "execution_count": 13,
   "id": "6aa57ceb-0415-4f83-afeb-f489fa90f497",
   "metadata": {},
   "outputs": [
    {
     "data": {
      "text/plain": [
       "\"A\" \"BC\"\n"
      ]
     },
     "execution_count": 13,
     "metadata": {},
     "output_type": "execute_result"
    },
    {
     "data": {
      "text/plain": [
       "\"a\" \"bc\"\n"
      ]
     },
     "execution_count": 13,
     "metadata": {},
     "output_type": "execute_result"
    },
    {
     "data": {
      "text/plain": [
       "\"1\" \"23\"\n"
      ]
     },
     "execution_count": 13,
     "metadata": {},
     "output_type": "execute_result"
    }
   ],
   "source": [
    "letter\"ABC\"\n",
    "letter\"abc\"\n",
    "plus[letter;digit]\"123\""
   ]
  },
  {
   "cell_type": "markdown",
   "id": "76e2e526-42be-4ea6-b9be-2a79d8855187",
   "metadata": {},
   "source": [
    "But, what can we do to represent a particular set of characters `/–?:().,‘`? For this task, we can use `oneof`, which just parses \"one of\" the supplied characters as input."
   ]
  },
  {
   "cell_type": "code",
   "execution_count": 14,
   "id": "be7ba49d-f67e-4412-91f0-73f71d12dfd3",
   "metadata": {},
   "outputs": [
    {
     "data": {
      "text/plain": [
       "\"?\" \"abc\"\n"
      ]
     },
     "execution_count": 14,
     "metadata": {},
     "output_type": "execute_result"
    },
    {
     "data": {
      "text/plain": [
       "\"(\" \"abc\"\n"
      ]
     },
     "execution_count": 14,
     "metadata": {},
     "output_type": "execute_result"
    }
   ],
   "source": [
    "oneof[\"/–?:().,‘\"]\"?abc\"\n",
    "oneof[\"/–?:().,‘\"]\"(abc\""
   ]
  },
  {
   "cell_type": "markdown",
   "id": "887e4d13-60eb-4454-8fb3-a782b7c9dc09",
   "metadata": {},
   "source": [
    "We decided to leave the space aside, since it has its own primitive in _quercus_, `space`:"
   ]
  },
  {
   "cell_type": "code",
   "execution_count": 17,
   "id": "c78e02e5-4245-4cec-9200-612d7ba36724",
   "metadata": {},
   "outputs": [
    {
     "data": {
      "text/plain": [
       "\" \" \"foo\"\n"
      ]
     },
     "execution_count": 17,
     "metadata": {},
     "output_type": "execute_result"
    }
   ],
   "source": [
    "space\" foo\""
   ]
  },
  {
   "cell_type": "markdown",
   "id": "a14f75bc-af31-4e40-8518-843c3418ab51",
   "metadata": {},
   "source": [
    "Now that we've implemented the individual parsers, it's time to \"plus\" them together!"
   ]
  },
  {
   "cell_type": "code",
   "execution_count": 24,
   "id": "9223b3a0-8233-470e-ba2e-fe25778de2d9",
   "metadata": {},
   "outputs": [],
   "source": [
    "xT0:plus[plus[plus[digit;letter];space];oneof\"/–?:().,‘\"]"
   ]
  },
  {
   "cell_type": "markdown",
   "id": "35c5e4f2-4ee8-4ee3-bece-e2832c102f5c",
   "metadata": {},
   "source": [
    "This works, but it gets difficult to read when the number of parsers to combine is large. Fortunately, we can leverage on q iterators to produce a nicer expression. This is the final version for `xT`:"
   ]
  },
  {
   "cell_type": "code",
   "execution_count": 15,
   "id": "74ff988f-64e3-4fb1-9e25-8c924eb05f06",
   "metadata": {},
   "outputs": [],
   "source": [
    "xT:(plus/)digit,letter,space,oneof\"/-?:().,‘\""
   ]
  },
  {
   "cell_type": "code",
   "execution_count": 21,
   "id": "72ed769a-9b49-4829-8d42-f7e84a185f6e",
   "metadata": {},
   "outputs": [
    {
     "data": {
      "text/plain": [
       "\"?\" \"??123ABC\"\n"
      ]
     },
     "execution_count": 21,
     "metadata": {},
     "output_type": "execute_result"
    }
   ],
   "source": [
    "xT\"???123ABC\""
   ]
  },
  {
   "cell_type": "markdown",
   "id": "5b86c594-b524-4d6a-b8d3-14048a39094a",
   "metadata": {},
   "source": [
    "Consuming individual characters is all right, but there's still a lot of work to do in order to parse a whole SWIFT message. However, as we'll see, the idea of combining small parsers to conform larger and more complex ones will prevail along the exercise."
   ]
  },
  {
   "cell_type": "markdown",
   "id": "d8191984-9944-4859-b958-5393b1344316",
   "metadata": {},
   "source": [
    "## 2. Field Examples"
   ]
  },
  {
   "cell_type": "markdown",
   "id": "ba55e501-73dd-4c45-884c-adedd6e06fa6",
   "metadata": {},
   "source": [
    "There are tons of fields scattered around the SWIFT specification. They are typically introduced with a name (& description), type and instance example. Our objective in this section is not only reading whole fields, but also consuming a sequence of them. Let's start by parsing them individually:"
   ]
  },
  {
   "cell_type": "markdown",
   "id": "f0908d82-ba20-45c1-adfa-936e5f723fa0",
   "metadata": {},
   "source": [
    "#### OutputDate: 6!n YYMMDD (240424)"
   ]
  },
  {
   "cell_type": "markdown",
   "id": "522cc9bf-8b1b-4f3d-8b71-a942610c24bb",
   "metadata": {},
   "source": [
    "In essence, what this notation is suggesting is that _OutputDate_ is a field that consists of 6 characters of type _n_. We could use `times` from _quercus_ to repeat a parser a given number of times."
   ]
  },
  {
   "cell_type": "code",
   "execution_count": null,
   "id": "dfd6b7e5-2b63-4006-9f0b-a8de65413b19",
   "metadata": {},
   "outputs": [],
   "source": [
    "od0:times[6;nT]"
   ]
  },
  {
   "cell_type": "markdown",
   "id": "1dde409d-49ed-4483-b6b5-57d7b99f0976",
   "metadata": {},
   "source": [
    "We can test that it works nicely by feeding the supplied example:"
   ]
  },
  {
   "cell_type": "code",
   "execution_count": 26,
   "id": "ea21d15d-19eb-4821-a0aa-c4d0380c85af",
   "metadata": {},
   "outputs": [
    {
     "data": {
      "text/plain": [
       "\"240424\" \"\"\n"
      ]
     },
     "execution_count": 26,
     "metadata": {},
     "output_type": "execute_result"
    }
   ],
   "source": [
    "od0\"240424\""
   ]
  },
  {
   "cell_type": "markdown",
   "id": "723c27ed-c27d-4169-b1f2-7348cea5cdd6",
   "metadata": {},
   "source": [
    "As you can see, `od0` is a parser that consumes 6 characters instead of a single one."
   ]
  },
  {
   "cell_type": "markdown",
   "id": "c0af8295-6b89-42cb-a569-9581e4b1f900",
   "metadata": {},
   "source": [
    "When parsing dates in q, you probably don't want a _string_ as a result. Instead, it would be nicer if the parser could return a date in a way no further manipulation is needed. We can use `D` from _quercus_ to produce a new parser that turns the result from the previous parser into a date."
   ]
  },
  {
   "cell_type": "code",
   "execution_count": 39,
   "id": "7907a8d6-fdbf-4d42-8a2b-53926b693393",
   "metadata": {},
   "outputs": [],
   "source": [
    "od:D times[6;nT]"
   ]
  },
  {
   "cell_type": "markdown",
   "id": "de6f6646-59f0-4d00-a6ef-5b2f4b587a73",
   "metadata": {},
   "source": [
    "The new version for `od` consumes the whole input and produces a date as result."
   ]
  },
  {
   "cell_type": "code",
   "execution_count": 40,
   "id": "65215a08-ee20-4b76-87b9-d66b6aca18cf",
   "metadata": {
    "collapsed": true,
    "jupyter": {
     "outputs_hidden": true
    }
   },
   "outputs": [
    {
     "data": {
      "text/plain": [
       "2024.04.24 \"\"\n"
      ]
     },
     "execution_count": 40,
     "metadata": {},
     "output_type": "execute_result"
    }
   ],
   "source": [
    "od\"240424\""
   ]
  },
  {
   "cell_type": "markdown",
   "id": "22f743b8-2a87-4fb5-a991-252c49e45f1b",
   "metadata": {},
   "source": [
    "As expected, if the input is not valid, eg. one of the characters doesn't belong to the SWIFT's _n_ type, the parser fails."
   ]
  },
  {
   "cell_type": "code",
   "execution_count": 128,
   "id": "e8863e32-a793-48d7-a70a-293b95eb672a",
   "metadata": {},
   "outputs": [
    {
     "data": {
      "text/plain": []
     },
     "execution_count": 128,
     "metadata": {},
     "output_type": "execute_result"
    }
   ],
   "source": [
    "od\"240X24\""
   ]
  },
  {
   "cell_type": "markdown",
   "id": "ee8126da-c514-480c-861b-292b496e2d2a",
   "metadata": {},
   "source": [
    "#### LTAddress: 12!x (BANKFRPPAXXX)"
   ]
  },
  {
   "cell_type": "markdown",
   "id": "9010c4fc-863d-4e61-8c3d-ae31695e2497",
   "metadata": {},
   "source": [
    "We can extend the same idea to other fields. In fact, we could determine to parse the `LTAddress` and turn it into a symbol by means of `S`:"
   ]
  },
  {
   "cell_type": "code",
   "execution_count": 127,
   "id": "ebe9e3d9-a99e-498e-8221-57eb8d4c6501",
   "metadata": {},
   "outputs": [],
   "source": [
    "lt:S times[12;xT]"
   ]
  },
  {
   "cell_type": "markdown",
   "id": "f50b58a8-dab8-4bf7-9484-70ff69bb3fee",
   "metadata": {},
   "source": [
    "We can feed the supplied example to show that this parser is actually returning a symbol."
   ]
  },
  {
   "cell_type": "code",
   "execution_count": 129,
   "id": "8b82c671-d0f6-459d-a832-cb44c2c0f388",
   "metadata": {},
   "outputs": [
    {
     "data": {
      "text/plain": [
       "`BANKFRPPAXXX \"\"\n"
      ]
     },
     "execution_count": 129,
     "metadata": {},
     "output_type": "execute_result"
    }
   ],
   "source": [
    "lt\"BANKFRPPAXXX\""
   ]
  },
  {
   "cell_type": "markdown",
   "id": "49f6d3ce-f4b0-44fd-a893-d1cc484a4083",
   "metadata": {},
   "source": [
    "#### SequenceNumber: 6!n (123456)"
   ]
  },
  {
   "cell_type": "markdown",
   "id": "c2724f3f-00cb-4602-b2c4-0eac9514d5a8",
   "metadata": {},
   "source": [
    "We also can cast (_tok_) into a _long_ type."
   ]
  },
  {
   "cell_type": "code",
   "execution_count": 41,
   "id": "1d8016a8-8d46-46b4-bb87-1c025a0a9a0c",
   "metadata": {},
   "outputs": [],
   "source": [
    "sn:J times[6;nT]"
   ]
  },
  {
   "cell_type": "code",
   "execution_count": 130,
   "id": "392baf6d-c1af-4ce6-ad71-98573d2c6032",
   "metadata": {},
   "outputs": [
    {
     "data": {
      "text/plain": [
       "123456 \"\"\n"
      ]
     },
     "execution_count": 130,
     "metadata": {},
     "output_type": "execute_result"
    }
   ],
   "source": [
    "sn\"123456\""
   ]
  },
  {
   "cell_type": "markdown",
   "id": "32d78736-518d-4405-b1cc-c96e547ae407",
   "metadata": {},
   "source": [
    "#### Consuming a Sequence of Fields"
   ]
  },
  {
   "cell_type": "markdown",
   "id": "3732c175-43bf-4cea-a17a-35a38b556da7",
   "metadata": {},
   "source": [
    "Once we have made individual parsers for each field, it's time to put them all together. In particular, our next task consists on creating a parser that combines `lt`, `od` and `sn` so we can consume the whole input `\"BANKFRPPAXXX240424123456\"` (BANKFRPPAXXX + 240424 + 123456) in a sequential way."
   ]
  },
  {
   "cell_type": "markdown",
   "id": "f080e612-080f-4998-9c9d-be4a83aba7ef",
   "metadata": {},
   "source": [
    "Fortunately, _quercus_ supplies `seq` which takes two parsers as input and returns a new parser that runs the first parser and then it runs the second one."
   ]
  },
  {
   "cell_type": "code",
   "execution_count": 131,
   "id": "ac423208-8045-4185-9002-02656acf4b74",
   "metadata": {},
   "outputs": [
    {
     "data": {
      "text/plain": [
       "(2024.04.24;`BANKFRPPAXXX) \"123456\"\n"
      ]
     },
     "execution_count": 131,
     "metadata": {},
     "output_type": "execute_result"
    }
   ],
   "source": [
    "seq[od;lt]\"240424BANKFRPPAXXX123456\""
   ]
  },
  {
   "cell_type": "markdown",
   "id": "d286d2f2-e3cc-440e-abec-69ab0a8781dd",
   "metadata": {},
   "source": [
    "If we want to sequence more than two parsers, we could use the same \"plus\" trick we saw above."
   ]
  },
  {
   "cell_type": "code",
   "execution_count": 132,
   "id": "0d7c2bd8-0769-4d29-8b4f-59e538d15a9f",
   "metadata": {},
   "outputs": [
    {
     "data": {
      "text/plain": [
       "((2024.04.24;`BANKFRPPAXXX);123456) \"\"\n"
      ]
     },
     "execution_count": 132,
     "metadata": {},
     "output_type": "execute_result"
    }
   ],
   "source": [
    "((seq/)od,lt,sn)\"240424BANKFRPPAXXX123456\""
   ]
  },
  {
   "cell_type": "markdown",
   "id": "e1229f7c-3929-4bad-a4e1-1042ae16f7cb",
   "metadata": {},
   "source": [
    "However, we'd like to avoid the nested results. Luckily, we can use `seqA` from _quercus_, where we get a non-nested result."
   ]
  },
  {
   "cell_type": "code",
   "execution_count": 137,
   "id": "a8381a1f-1071-4622-8a44-2f09783157e9",
   "metadata": {},
   "outputs": [
    {
     "data": {
      "text/plain": [
       "(2024.04.24;`BANKFRPPAXXX;123456) \"\"\n"
      ]
     },
     "execution_count": 137,
     "metadata": {},
     "output_type": "execute_result"
    }
   ],
   "source": [
    "flds:seqA od,lt,sn;\n",
    "flds\"240424BANKFRPPAXXX123456\""
   ]
  },
  {
   "cell_type": "markdown",
   "id": "7da83020-aca5-44be-be4f-ccbed66101fa",
   "metadata": {},
   "source": [
    "## 3. Dependent Fields"
   ]
  },
  {
   "cell_type": "markdown",
   "id": "e48ffcac-e61b-4921-a9e2-3fb29ded75c9",
   "metadata": {},
   "source": [
    "If the value of a field depends on the value of another one, we get a _dependent field_. In the following example, _delivery_ depends on _priority_.\n",
    "\n",
    "#### Priority: 1!a (U)\n",
    "This character, used within FIN Application Headers only, defines the priority with which a message is delivered. The possible values are:\n",
    "* U = Urgent\n",
    "* N = Normal\n",
    "\n",
    "#### Delivery: 1!n (1)\n",
    "Delivery monitoring options apply only to FIN user-to-user messages. The chosen option is expressed as a single digit:\n",
    "* 1 = Non-Delivery Warning\n",
    "* 2 = Delivery Notification\n",
    "* 3 = Non-Delivery Warning and Delivery Notification\n",
    "\n",
    "**If the message has priority 'U', the user must request delivery monitoring option '1' or '3'. If the message has priority 'N', the user can request delivery monitoring option '2' or, by leaving the option blank, no delivery monitoring.**"
   ]
  },
  {
   "cell_type": "markdown",
   "id": "13b9124f-a14a-427d-b657-5894105096f9",
   "metadata": {},
   "source": [
    "Implementing a parser for _Priority_ is straightforward."
   ]
  },
  {
   "cell_type": "code",
   "execution_count": 55,
   "id": "e48d2f5d-363d-471f-877d-b498ba0ef607",
   "metadata": {},
   "outputs": [
    {
     "data": {
      "text/plain": [
       "`U ,\"N\"\n"
      ]
     },
     "execution_count": 55,
     "metadata": {},
     "output_type": "execute_result"
    }
   ],
   "source": [
    "pri:S oneof\"UN\";\n",
    "pri\"UN\""
   ]
  },
  {
   "cell_type": "markdown",
   "id": "a92d1ed6-6e87-4e8a-b380-5e03620eb4f5",
   "metadata": {},
   "source": [
    "Note that we've used `S` to cast to symbol.\n",
    "\n",
    "There are two different parsers for `Delivery` which depend on the priority. If priority equals `U` then the parser should be:"
   ]
  },
  {
   "cell_type": "code",
   "execution_count": 62,
   "id": "b5690eee-5c3c-47f4-afca-e25c38d8724c",
   "metadata": {},
   "outputs": [],
   "source": [
    "cU:oneof\"13\""
   ]
  },
  {
   "cell_type": "markdown",
   "id": "16a11f11-57be-4901-a03d-3c14c6886d9d",
   "metadata": {},
   "source": [
    "On the contrary, if priority equals `N` then the parser *could* consume `2`. The parser for consuming a particular character is easy, we can leverage on `chr`:"
   ]
  },
  {
   "cell_type": "code",
   "execution_count": 58,
   "id": "a03a8d15-ed80-49e1-bc39-b53b1aed55d7",
   "metadata": {},
   "outputs": [
    {
     "data": {
      "text/plain": [
       "\"2\" \"oo\"\n"
      ]
     },
     "execution_count": 58,
     "metadata": {},
     "output_type": "execute_result"
    }
   ],
   "source": [
    "chr[\"2\"]\"2oo\""
   ]
  },
  {
   "cell_type": "markdown",
   "id": "1c01752e-24fd-42e1-86e2-7730980aaeed",
   "metadata": {},
   "source": [
    "But how can we model the optional behaviour? Of course, we have another combinator for that, it's called `opt`!"
   ]
  },
  {
   "cell_type": "code",
   "execution_count": 99,
   "id": "4a745299-2546-4823-9796-140412fd6551",
   "metadata": {},
   "outputs": [],
   "source": [
    "cN:opt chr\"2\""
   ]
  },
  {
   "cell_type": "markdown",
   "id": "5782acda-8753-4288-99b7-75afbe17e8be",
   "metadata": {},
   "source": [
    "It just returns nothing (interesting) when no `2` is found in the input:"
   ]
  },
  {
   "cell_type": "code",
   "execution_count": 100,
   "id": "9206dbec-72e9-4e3e-bcb1-b08d7e67e35f",
   "metadata": {},
   "outputs": [
    {
     "data": {
      "text/plain": [
       "() \"abc\"\n"
      ]
     },
     "execution_count": 100,
     "metadata": {},
     "output_type": "execute_result"
    }
   ],
   "source": [
    "cN\"abc\""
   ]
  },
  {
   "cell_type": "markdown",
   "id": "9fc73b1c-e4f9-483e-bd1f-cf9882f77103",
   "metadata": {},
   "source": [
    "But we get a weird behaviour when it actually finds such character:"
   ]
  },
  {
   "cell_type": "code",
   "execution_count": 101,
   "id": "f75c7eba-cb4d-46a3-b7b0-ca438468e356",
   "metadata": {},
   "outputs": [
    {
     "data": {
      "text/plain": [
       "\"2\" \"abc\" \n",
       "()  \"2abc\"\n"
      ]
     },
     "execution_count": 101,
     "metadata": {},
     "output_type": "execute_result"
    }
   ],
   "source": [
    "cN\"2abc\""
   ]
  },
  {
   "cell_type": "markdown",
   "id": "6bd90362-8d9a-42d4-a0f7-82c3bd93450d",
   "metadata": {},
   "source": [
    "You can ignore this aspect for now, we'll come back to it later, but in essence, this is the way we express non-determinism."
   ]
  },
  {
   "cell_type": "markdown",
   "id": "2b37a139-191c-4a60-8ee3-0d9a17915dae",
   "metadata": {},
   "source": [
    "Once we know how to deal with optional fields, let's get back to dependent ones. Having implemented all cases, we can deal with the _delivery_ logic by using `bind` from _quercus_:"
   ]
  },
  {
   "cell_type": "code",
   "execution_count": 103,
   "id": "806ec820-4e7d-4625-a175-002fd5da48f1",
   "metadata": {},
   "outputs": [],
   "source": [
    "dlv:bind[`U`N!(cU;cN)]pri"
   ]
  },
  {
   "cell_type": "markdown",
   "id": "9c817151-66a7-4ac6-96f0-ec94395fceb2",
   "metadata": {},
   "source": [
    "This is probably the most powerful combinator in the library. It takes the previous parser and a function (or a dictionary) that determines the next parser to use as inputs. In essence, this code manifests that if we find `U` as priority, we need to use `cU` for the remaining text. Otherwise, if we find `N` we should continue with `cN`."
   ]
  },
  {
   "cell_type": "code",
   "execution_count": 105,
   "id": "59fd4b56-c6b4-429d-aada-664ea4f23ed0",
   "metadata": {},
   "outputs": [
    {
     "data": {
      "text/plain": [
       "\"1\" \"\"\n"
      ]
     },
     "execution_count": 105,
     "metadata": {},
     "output_type": "execute_result"
    },
    {
     "data": {
      "text/plain": []
     },
     "execution_count": 105,
     "metadata": {},
     "output_type": "execute_result"
    },
    {
     "data": {
      "text/plain": [
       "\"3\" \"\"\n"
      ]
     },
     "execution_count": 105,
     "metadata": {},
     "output_type": "execute_result"
    },
    {
     "data": {
      "text/plain": [
       "\"2\" \"\"  \n",
       "()  ,\"2\"\n"
      ]
     },
     "execution_count": 105,
     "metadata": {},
     "output_type": "execute_result"
    }
   ],
   "source": [
    "dlv\"U1\"\n",
    "dlv\"U2\" / ko\n",
    "dlv\"U3\"\n",
    "dlv\"N2\""
   ]
  },
  {
   "cell_type": "code",
   "execution_count": null,
   "id": "f8d62877-42d3-482d-98cf-47793c08d49a",
   "metadata": {},
   "outputs": [],
   "source": [
    "\"{1:BANKFRPPAXXX4321123456}\""
   ]
  },
  {
   "cell_type": "code",
   "execution_count": 106,
   "id": "c30db375-0f1b-4147-81e5-00f8240456a3",
   "metadata": {},
   "outputs": [],
   "source": [
    "cT:plus[upr;digit]"
   ]
  },
  {
   "cell_type": "code",
   "execution_count": 115,
   "id": "df6c6ee2-f412-47de-9c08-feb5391cb073",
   "metadata": {},
   "outputs": [
    {
     "data": {
      "text/plain": [
       "(`1;`LTAddress`SessionNumber`SequenceNumber!(\"BANKFRPPAXXX\";4321;123456)) \"\"\n"
      ]
     },
     "execution_count": 115,
     "metadata": {},
     "output_type": "execute_result"
    }
   ],
   "source": [
    "(braces seq[seql[tos upto[3;cT];chr\":\"];b1])\"{1:BANKFRPPAXXX4321123456}{2:123456}\""
   ]
  },
  {
   "cell_type": "code",
   "execution_count": 161,
   "id": "b7ed4722-0eaa-45a5-8f14-6f26165f4f29",
   "metadata": {},
   "outputs": [
    {
     "data": {
      "text/plain": [
       "`LTAddress`SessionNumber`SequenceNumber!(\"BANKFRPPAXXX\";4321;123456)\n",
       "123456\n",
       "\"foo\"\n"
      ]
     },
     "execution_count": 161,
     "metadata": {},
     "output_type": "execute_result"
    }
   ],
   "source": [
    ".sw.1:b1;\n",
    ".sw.2:j;\n",
    ".sw.3:str\"foo\";\n",
    "p:many1 braces bind[get`.sw] seql[tos upto[3;cT];chr\":\"];\n",
    "rparse[seql[p;eof]]\"{1:BANKFRPPAXXX4321123456}{2:123456}{3:foo}\""
   ]
  },
  {
   "cell_type": "markdown",
   "id": "3af466c3-847e-4f11-a14f-d5e5708971f5",
   "metadata": {},
   "source": [
    "## 4. Validation"
   ]
  },
  {
   "cell_type": "markdown",
   "id": "d27c9a9b-078a-49a9-9910-93defd4ef5d8",
   "metadata": {},
   "source": [
    "For the next problem, we are going to introduce a simple validation. Say the output date has to be greater than or equal to today."
   ]
  },
  {
   "cell_type": "code",
   "execution_count": 119,
   "id": "2be2cb6a-ecf7-4a78-af3e-79c07b6d6628",
   "metadata": {},
   "outputs": [
    {
     "data": {
      "text/plain": [
       "2024.04.24 \"\"\n"
      ]
     },
     "execution_count": 119,
     "metadata": {},
     "output_type": "execute_result"
    }
   ],
   "source": [
    "od\"240424\""
   ]
  },
  {
   "cell_type": "markdown",
   "id": "bc43a515-1aa1-4539-8752-835f1eeff238",
   "metadata": {},
   "source": [
    "We have the possibility of filtering out branches by using `fil`."
   ]
  },
  {
   "cell_type": "code",
   "execution_count": 121,
   "id": "d663780b-a924-42f6-9732-d5f4efc97d4d",
   "metadata": {},
   "outputs": [],
   "source": [
    "vp:fil[.z.d<=]od"
   ]
  },
  {
   "cell_type": "markdown",
   "id": "57102038-e0ec-4d8d-807c-e6d29c42ec05",
   "metadata": {},
   "source": [
    "Now, if the value conforms the validation we get a result; otherwise we get nothing."
   ]
  },
  {
   "cell_type": "code",
   "execution_count": 125,
   "id": "f2617fb9-0904-428a-b159-246edb9f6231",
   "metadata": {},
   "outputs": [
    {
     "data": {
      "text/plain": [
       "2025.04.24 \"\"\n"
      ]
     },
     "execution_count": 125,
     "metadata": {},
     "output_type": "execute_result"
    },
    {
     "data": {
      "text/plain": []
     },
     "execution_count": 125,
     "metadata": {},
     "output_type": "execute_result"
    }
   ],
   "source": [
    "vp\"250424\"\n",
    "vp\"230424\""
   ]
  },
  {
   "cell_type": "markdown",
   "id": "38bb80e3-26a5-4b5f-b1fd-91b4b004ee34",
   "metadata": {},
   "source": [
    "We have reached the end of the example!"
   ]
  }
 ],
 "metadata": {
  "kernelspec": {
   "display_name": "Q (kdb+)",
   "language": "q",
   "name": "qpk"
  },
  "language_info": {
   "file_extension": ".q",
   "mimetype": "text/x-q",
   "name": "q",
   "version": "4.1.0"
  }
 },
 "nbformat": 4,
 "nbformat_minor": 5
}
